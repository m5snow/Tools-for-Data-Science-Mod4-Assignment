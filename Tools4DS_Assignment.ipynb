{
  "metadata": {
    "kernelspec": {
      "name": "python",
      "display_name": "Pyolite",
      "language": "python"
    },
    "language_info": {
      "codemirror_mode": {
        "name": "python",
        "version": 3
      },
      "file_extension": ".py",
      "mimetype": "text/x-python",
      "name": "python",
      "nbconvert_exporter": "python",
      "pygments_lexer": "ipython3",
      "version": "3.8"
    }
  },
  "nbformat_minor": 4,
  "nbformat": 4,
  "cells": [
    {
      "cell_type": "markdown",
      "source": "<center>\n    <img src=\"https://cf-courses-data.s3.us.cloud-object-storage.appdomain.cloud/IBMDeveloperSkillsNetwork-DS0105EN-SkillsNetwork/labs/Module2/images/SN_web_lightmode.png\" width=\"300\" alt=\"cognitiveclass.ai logo\">\n</center>\n",
      "metadata": {}
    },
    {
      "cell_type": "markdown",
      "source": "# My Jupyter Notebook on IBM Watson Studio\n",
      "metadata": {}
    },
    {
      "cell_type": "markdown",
      "source": "**Mallory**\n",
      "metadata": {}
    },
    {
      "cell_type": "markdown",
      "source": "Desired Occupation: Data Scientist",
      "metadata": {}
    },
    {
      "cell_type": "markdown",
      "source": "<i> I became interested in data science by learning about machine learning first. It is astonoshing how much data is in our digital world; the amount of things you can do this this data is endless.",
      "metadata": {}
    },
    {
      "cell_type": "markdown",
      "source": "### The below code defines a function (f) which takes an input (x) and prints the square of it.",
      "metadata": {}
    },
    {
      "cell_type": "code",
      "source": "def f(x):\n    print(x**2)\n\nf(2)",
      "metadata": {
        "trusted": true
      },
      "execution_count": 4,
      "outputs": [
        {
          "name": "stdout",
          "text": "4\n",
          "output_type": "stream"
        }
      ]
    },
    {
      "cell_type": "markdown",
      "source": "Bulletted list:\n- item 1\n- item 2\n\nNumbered list:\n1. first item \n2. second item\n\nStrike-through: \n\n~strike through this text~",
      "metadata": {}
    },
    {
      "cell_type": "code",
      "source": "",
      "metadata": {},
      "execution_count": null,
      "outputs": []
    }
  ]
}